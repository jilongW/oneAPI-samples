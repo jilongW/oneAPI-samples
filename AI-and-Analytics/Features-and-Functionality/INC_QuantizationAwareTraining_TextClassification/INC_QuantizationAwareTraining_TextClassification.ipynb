{
 "cells": [
  {
   "cell_type": "code",
   "execution_count": null,
   "metadata": {},
   "outputs": [],
   "source": [
    "# =============================================================\n",
    "# Copyright © 2023 Intel Corporation\n",
    "# \n",
    "# SPDX-License-Identifier: MIT\n",
    "# ============================================================="
   ]
  },
  {
   "attachments": {},
   "cell_type": "markdown",
   "metadata": {},
   "source": [
    "# Fine-tuning text classification model with Intel® Neural Compressor (INC) Quantization Aware Training\n",
    "\n",
    "This code sample will show you how to fine tune BERT text model for text multi-class classification task using Quantization Aware Training provided as part of Intel® Neural Compressor (INC).\n",
    "\n",
    "Before we start, please make sure you have installed all necessary libraries to run this code sample."
   ]
  },
  {
   "attachments": {},
   "cell_type": "markdown",
   "metadata": {},
   "source": [
    "## Loading model \n",
    "\n",
    "We decided to use really small model for this code sample which is `prajjwal1/bert-tiny` but please feel free to use different model changing `model_id` to other name form Hugging Face library or your local model path (if it is compatible with Hugging Face API). \n",
    "\n",
    "Keep in mind that using bigger models like `bert-base-uncased` can improve the final result of the classification after fine-tuning process but it is also really resources and time consuming."
   ]
  },
  {
   "cell_type": "code",
   "execution_count": null,
   "metadata": {},
   "outputs": [],
   "source": [
    "from transformers import AutoModelForSequenceClassification, AutoTokenizer\n",
    "\n",
    "model_id = \"prajjwal1/bert-tiny\"\n",
    "model = AutoModelForSequenceClassification.from_pretrained(model_id,  num_labels=6)\n",
    "tokenizer = AutoTokenizer.from_pretrained(model_id, model_max_length=512)\n",
    "\n",
    "# The directory where the quantized model will be saved\n",
    "save_dir = \"quantized_model\""
   ]
  },
  {
   "attachments": {},
   "cell_type": "markdown",
   "metadata": {},
   "source": [
    "## Dataset\n",
    "\n",
    "We are using `emotion` [dataset form Hugging Face](https://huggingface.co/datasets/dair-ai/emotion). This dataset has 2 different configurations - **split** and **unsplit**. \n",
    "\n",
    "In this code sample we are using split configuration. It contains in total 20 000 examples split into train (16 000 texts), test (2 000 texts) and validation (2 000 text) datasets. We decided to use split dataset instead of unsplit configuration as it contains over 400 000 texts which is overkill for fine-tuning.\n",
    "\n",
    "After loading selected dataset we will take a look at first 10 rows of train dataset. You can always change the dataset for different one, just remember to change also number of labels parameter provided when loading the model."
   ]
  },
  {
   "cell_type": "code",
   "execution_count": null,
   "metadata": {},
   "outputs": [],
   "source": [
    "from datasets import load_dataset\n",
    "\n",
    "dataset = load_dataset(\"emotion\", name=\"split\", trust_remote_code=True)\n",
    "dataset['train'][:10]"
   ]
  },
  {
   "attachments": {},
   "cell_type": "markdown",
   "metadata": {},
   "source": [
    "Dataset contains 6 different labels represented by digits from 0 to 5. Every digit symbolizes different emotion as followed:\n",
    "\n",
    "* 0 - sadness\n",
    "* 1 - joy\n",
    "* 2 - love\n",
    "* 3 - anger\n",
    "* 4 - fear\n",
    "* 5 - surprise\n",
    "\n",
    "In the cell below we conducted few computations on training dataset to better understand how the data looks like. We are analyzing only train dataset as the test and validation datasets have similar data distribution.\n",
    "\n",
    "As you can see, distribution opf classed in dataset is not equal. Having in mind that the train, test and validation distributions are similar this is not a problem for our case. "
   ]
  },
  {
   "cell_type": "code",
   "execution_count": null,
   "metadata": {},
   "outputs": [],
   "source": [
    "import matplotlib.pyplot as plt\n",
    "import pandas as pd\n",
    "\n",
    "sadness = dataset['train']['label'].count(0)\n",
    "joy = dataset['train']['label'].count(1)\n",
    "love = dataset['train']['label'].count(2)\n",
    "anger = dataset['train']['label'].count(3)\n",
    "fear = dataset['train']['label'].count(4)\n",
    "surprise = dataset['train']['label'].count(5)\n",
    "\n",
    "\n",
    "fig = plt.figure()\n",
    "ax = fig.add_axes([0,0,1,1])\n",
    "labels = ['joy', 'sadness', 'anger', 'fear', 'love', 'surprise']\n",
    "frames = [joy, sadness, anger, fear, love, surprise]\n",
    "ax.bar(labels, frames)\n",
    "plt.show()"
   ]
  },
  {
   "attachments": {},
   "cell_type": "markdown",
   "metadata": {},
   "source": [
    "# Tokenization\n",
    "\n",
    "Next step is to tokenize the dataset. \n",
    "\n",
    "**Tokenization** is a way of separating a piece of text into smaller units called tokens. Here, tokens can be either words, characters etc. It means that tokenizer breaks unstructured data (natural language text) into chunks of information that can be considered as discrete elements. The tokens can be used later in a vector representation of that document. \n",
    "\n",
    "In other words tokenization change an text document into a numerical data structure suitable for machine and deep learning. \n",
    "\n",
    "To do that, we created function that takes every text from dataset and tokenize it with maximum token length being 128. After that we can se how the structure of the dataset change."
   ]
  },
  {
   "cell_type": "code",
   "execution_count": null,
   "metadata": {},
   "outputs": [],
   "source": [
    "def tokenize_data(example):\n",
    "    return tokenizer(example['text'], padding='max_length', max_length=128)\n",
    "\n",
    "dataset = dataset.map(tokenize_data, batched=True)\n",
    "dataset"
   ]
  },
  {
   "attachments": {},
   "cell_type": "markdown",
   "metadata": {},
   "source": [
    "Before we start fine-tuning, let's see how the model in current state performs against validation dataset.\n",
    "\n",
    "First, we need to prepare metrics showing model performance. We decided to use accuracy as a performance measure in this specific task. As the model was not created for this specific task, we can assume that the accuracy will not be high."
   ]
  },
  {
   "cell_type": "code",
   "execution_count": null,
   "metadata": {},
   "outputs": [],
   "source": [
    "import evaluate\n",
    "import numpy as np\n",
    "\n",
    "metric = evaluate.load(\"accuracy\")\n",
    "\n",
    "def compute_metrics(eval_pred):\n",
    "    logits, labels = eval_pred\n",
    "    predictions = np.argmax(logits, axis=-1)\n",
    "    return metric.compute(predictions=predictions, references=labels)"
   ]
  },
  {
   "attachments": {},
   "cell_type": "markdown",
   "metadata": {},
   "source": [
    "Then, we are creating evaluator to see how pre-trained model classify emotions.\n",
    "We have to specify:\n",
    "* model on which the evaluation will happen - provide the same `model_id` as before,\n",
    "* dataset - in our case this is validation dataset,\n",
    "* metrics - as specified before, in our case accuracy,\n",
    "* label mapping - to map label names with corresponding digits.\n",
    "\n",
    "After the evaluation, we just show the results, which are as expected not the best. At this point model is not prepared for emotion classification task."
   ]
  },
  {
   "cell_type": "code",
   "execution_count": null,
   "metadata": {},
   "outputs": [],
   "source": [
    "from evaluate import evaluator\n",
    "\n",
    "task_evaluator = evaluator(\"text-classification\")\n",
    "\n",
    "eval_results = task_evaluator.compute(\n",
    "    model_or_pipeline=model_id,\n",
    "    data=dataset['validation'],\n",
    "    metric=metric,\n",
    "    label_mapping={\"LABEL_0\": 0, \"LABEL_1\": 1, \"LABEL_2\": 2, \"LABEL_3\": 3, \"LABEL_4\": 4, \"LABEL_5\": 5}\n",
    ")\n",
    "eval_results"
   ]
  },
  {
   "attachments": {},
   "cell_type": "markdown",
   "metadata": {},
   "source": [
    "# Quantization Aware Training\n",
    "\n",
    "Now, we can move to fine-tuning with quantization. But first, please review the definition of quantization and quantization aware training.\n",
    "\n",
    "**Quantization** is a systematic reduction of the precision of all or several layers within the model. This means, a higher-precision type, such as the single precision floating-point (FP32) is converted into a lower-precision type, such as FP16 (16 bits) or INT8 (8 bits).\n",
    "\n",
    "**Quantization Aware Training** replicates inference-time quantization, resulting in a model that downstream tools may utilize to generate actually quantized models. In other words, it provides quantization to the model during training (or fine-tuning like in our case) based on provided quantization configuration.\n",
    "\n",
    "Having that in mind, we can provide configuration for the Quantization Aware Training form Intel® Neural Compressor (INC)."
   ]
  },
  {
   "cell_type": "code",
   "execution_count": null,
   "metadata": {},
   "outputs": [],
   "source": [
    "from neural_compressor import QuantizationAwareTrainingConfig\n",
    "\n",
    "# The configuration detailing the quantization process\n",
    "quantization_config = QuantizationAwareTrainingConfig()"
   ]
  },
  {
   "attachments": {},
   "cell_type": "markdown",
   "metadata": {},
   "source": [
    "The next step is to create trainer for our model. We will use Intel® Neural Compressor (INC) optimize trainer form `optimum.intel` package.\n",
    "We need to provide all necessary parameters to the trainer:\n",
    "\n",
    "* initialized model and tokenizer\n",
    "* configuration for quantization aware training\n",
    "* training arguments that includes: directory where model will be saved, number of epochs\n",
    "* datasets for training and evaluation\n",
    "* prepared metrics that allow us to see the progress in training\n",
    "\n",
    "For purpose of this code sample, we decided to train model by just 2 epochs, to show you how the quantization aware training works and that the fine-tuning really improves the results of the classification. If you wan to receive better accuracy results, yoy can easily incise the number of epochs up to 5 and observe how model learns. Keep in mind that the process may take some time - the more epochs you will use, the training time will be longer."
   ]
  },
  {
   "cell_type": "code",
   "execution_count": null,
   "metadata": {},
   "outputs": [],
   "source": [
    "from optimum.intel import INCModelForSequenceClassification, INCTrainer\n",
    "from transformers import TrainingArguments\n",
    "\n",
    "trainer = INCTrainer(\n",
    "    model=model,\n",
    "    quantization_config=quantization_config,\n",
    "    args=TrainingArguments(save_dir, num_train_epochs=2.0, do_train=True, do_eval=False),\n",
    "    train_dataset=dataset[\"train\"],\n",
    "    eval_dataset=dataset[\"validation\"],\n",
    "    compute_metrics=compute_metrics,\n",
    "    tokenizer=tokenizer,\n",
    ")"
   ]
  },
  {
   "attachments": {},
   "cell_type": "markdown",
   "metadata": {},
   "source": [
    "## Train the model\n",
    "\n",
    "Now, let's train the model. We will use prepared trainer by executing `train` method on it.\n",
    "\n",
    "You can see, that after the training information about the model are printed under `*****Mixed Precision Statistics*****`. \n",
    "\n",
    "Now, the model use INT8 instead of FP32 in every layer."
   ]
  },
  {
   "cell_type": "code",
   "execution_count": null,
   "metadata": {},
   "outputs": [],
   "source": [
    "train_result = trainer.train()"
   ]
  },
  {
   "attachments": {},
   "cell_type": "markdown",
   "metadata": {},
   "source": [
    "## Evaluate the model\n",
    "\n",
    "After the training we should evaluate our model using `evaluate()` method on prepared trainer. It will show results for prepared before evaluation metrics - evaluation accuracy and loss. Additionally we will have information about evaluation time, samples and steps per second and number of epochs model was trained by. "
   ]
  },
  {
   "cell_type": "code",
   "execution_count": null,
   "metadata": {},
   "outputs": [],
   "source": [
    "metrics = trainer.evaluate()\n",
    "metrics"
   ]
  },
  {
   "attachments": {},
   "cell_type": "markdown",
   "metadata": {},
   "source": [
    "After the training it is important to save the model. One again we will use prepared trainer and other method - `save_model()`. Our model will be saved in the location provided before.\n",
    "After that, to use this model in the future you just need load it similarly as at the beginning, using dedicated Intel® Neural Compressor (INC) optimized method `INCModelForSequenceClassification.from_pretrained(...)`. "
   ]
  },
  {
   "cell_type": "code",
   "execution_count": null,
   "metadata": {},
   "outputs": [],
   "source": [
    "# To use model in the future - save it!\n",
    "trainer.save_model()\n",
    "model = INCModelForSequenceClassification.from_pretrained(save_dir)"
   ]
  },
  {
   "attachments": {},
   "cell_type": "markdown",
   "metadata": {},
   "source": [
    "In this code sample we use BERT-tiny and emotion dataset to create text classification model using Intel® Neural Compressor (INC) Quantization Aware Training. We encourage you to experiment with this code sample changing model and datasets to make text models for different classification tasks. "
   ]
  },
  {
   "cell_type": "code",
   "execution_count": null,
   "metadata": {},
   "outputs": [],
   "source": [
    "print(\"[CODE_SAMPLE_COMPLETED_SUCCESSFULLY]\")"
   ]
  }
 ],
 "metadata": {},
 "nbformat": 4,
 "nbformat_minor": 0
}
